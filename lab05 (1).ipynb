{
 "cells": [
  {
   "cell_type": "markdown",
   "id": "853ce637-8316-439f-8787-5f6f25de4267",
   "metadata": {
    "collapsed": false
   },
   "source": [
    "# Лабораторна робота 5 \n",
    "\n",
    "## Завдання 1\n",
    "\n",
    "Розгляньте групу матриць за множенням  \n",
    "\n",
    "$$G = \\left\\langle \\left(\\begin{array}{rrr}\n",
    "1 & 0 & 1 \\\\\n",
    "0 & 1 & 0 \\\\\n",
    "0 & 0 & 1\n",
    "\\end{array}\\right),  \\left(\\begin{array}{rrr}\n",
    "1 & 0 & 0 \\\\\n",
    "0 & 1 & 1 \\\\\n",
    "0 & 0 & 1\n",
    "\\end{array}\\right)\\right\\rangle$$\n",
    "\n",
    "Дайте відповідь на наступні питання: \n",
    "\n",
    "1. _Чи є група G скінченною?_\n",
    "2. _Чи є група G комутативною?_\n",
    "3. _Який вигляд мають елементи групи G?_\n",
    "4. _Які порядки мають елементи групи G?_ \n",
    "5. _Чому ізоморфна група G?_\n",
    "\n",
    "__Відповіді__: \n",
    "\n",
    "1. ні\n",
    "\n",
    "2. так\n",
    "\n",
    "3. $$\\left(\\begin{array}{rrr}\n",
    "   1 & 0 & n \\\\\n",
    "   0 & 1 & m \\\\\n",
    "   0 & 0 & 1\n",
    "   \\end{array}\\right)$$\n",
    "\n",
    "4. всі нескінченні, окрім 1, в неї порядок 1\n",
    "\n",
    "5. \n",
    "\n"
   ]
  },
  {
   "cell_type": "code",
   "execution_count": 11,
   "id": "be9b2439-0658-4e0a-93c6-0850a2e200fe",
   "metadata": {
    "collapsed": false
   },
   "outputs": [
    {
     "name": "stdout",
     "output_type": "stream",
     "text": [
      "False\n",
      "True\n"
     ]
    },
    {
     "data": {
      "text/plain": [
       "[1 0 n]\n",
       "[0 1 m]\n",
       "[0 0 1]"
      ]
     },
     "execution_count": 11,
     "metadata": {
     },
     "output_type": "execute_result"
    }
   ],
   "source": [
    "# Ваш код з поясненнями тут. \n",
    "A = Matrix([[1, 0, 1], [0, 1, 0], [0, 0, 1]])\n",
    "B = Matrix([[1, 0, 0], [0, 1, 1], [0, 0, 1]])\n",
    "\n",
    "G = MatrixGroup([A, B])\n",
    "\n",
    "print(G.is_finite())\n",
    "print(G.is_abelian())\n",
    "\n",
    "var('n')\n",
    "var('m')\n",
    "\n",
    "A^n\n",
    "B^n\n",
    "A^n * B^m\n"
   ]
  },
  {
   "cell_type": "markdown",
   "id": "4b51fa8b-4aaf-4b15-9478-a546c500583d",
   "metadata": {
    "collapsed": false
   },
   "source": [
    "## Завдання 2 \n",
    "\n",
    "Розгляньте групу матриць за множенням: \n",
    "\n",
    "$$G = \\left\\langle \\left(\\begin{array}{rr}\n",
    "1 & -1 \\\\\n",
    "-1 & 2\n",
    "\\end{array}\\right), \\left(\\begin{array}{rr}\n",
    "3 & 2 \\\\\n",
    "2 & 1\n",
    "\\end{array}\\right) \\right\\rangle$$\n",
    "\n",
    "Дайте відповідь на наступні питання: \n",
    "\n",
    "1. _Чи є група G скінченною?_\n",
    "2. _Чи є група G комутативною?_\n",
    "3. _Який вигляд мають елементи групи G?_\n",
    "4. _Які порядки мають елементи групи G?_ \n",
    "5. _Чому ізоморфна група G?_\n",
    "\n",
    "__Відповіді__: \n",
    "\n",
    "1. ні\n",
    "2. так\n",
    "3. $$\\left(\\begin{array}{rrr}\n",
    "   a & a-b \\\\\n",
    "   0 & b \\\\\n",
    "   \\end{array}\\right)$$\n",
    "4. всі нескінченні, окрім 1, в неї порядок 1\n",
    "5. \n",
    "\n"
   ]
  },
  {
   "cell_type": "code",
   "execution_count": 19,
   "id": "90507d96-1506-4ac1-af8b-e7ad3840755a",
   "metadata": {
    "collapsed": false
   },
   "outputs": [
    {
     "name": "stdout",
     "output_type": "stream",
     "text": [
      "False\n",
      "True\n"
     ]
    },
    {
     "data": {
      "text/plain": [
       "[3 2]\n",
       "[2 1]"
      ]
     },
     "execution_count": 19,
     "metadata": {
     },
     "output_type": "execute_result"
    }
   ],
   "source": [
    "# Ваш код з поясненнями тут \n",
    "A = matrix([[1, -1], [-1, 2]])\n",
    "B = matrix([[3, 2], [2, 1]])\n",
    "\n",
    "G = MatrixGroup([A, B])\n",
    "\n",
    "print(G.is_finite())\n",
    "print(G.is_abelian())\n",
    "\n",
    "\n",
    "A*B\n",
    "B*A\n",
    "A^2*B^2\n",
    "A^3*B^3\n"
   ]
  },
  {
   "cell_type": "markdown",
   "id": "19188467-cc30-42b5-a48c-1329337ff2c0",
   "metadata": {
    "collapsed": false
   },
   "source": [
    "## Завдання 3\n",
    "\n",
    "Розгляньте групу матриць за множенням: \n",
    "\n",
    "$$K = \\left\\langle \\left(\\begin{array}{rrr}\n",
    "-1 & 0 & 0 \\\\\n",
    "0 & 1 & \\frac{1}{2} \\\\\n",
    "0 & 0 & 1\n",
    "\\end{array}\\right), \n",
    "\\left(\\begin{array}{rrr}\n",
    "1 & 0 & 1 \\\\\n",
    "0 & 1 & 0 \\\\\n",
    "0 & 0 & 1\n",
    "\\end{array}\\right) \\right\\rangle$$\n",
    "\n",
    "Дайте відповідь на наступні питання: \n",
    "\n",
    "1. _Чи є група K скінченною?_\n",
    "2. _Чи є група K комутативною?_\n",
    "3. _Який вигляд мають елементи групи K?_\n",
    "4. _Які порядки мають елементи групи K?_ \n",
    "\n",
    "__Відповіді__: \n",
    "\n",
    "1. ні\n",
    "2. ні\n",
    "3. ... \n",
    "4. ... \n",
    "5. \n",
    "\n",
    "__Додаткова задача:__\n",
    "Опишіть підгрупи групи K з точністю до ізоморфізму. \n",
    "\n"
   ]
  },
  {
   "cell_type": "code",
   "execution_count": 20,
   "id": "e527f82c-506c-4c52-8136-4b9ba5391e63",
   "metadata": {
    "collapsed": false
   },
   "outputs": [
    {
     "name": "stdout",
     "output_type": "stream",
     "text": [
      "False\n",
      "False\n"
     ]
    }
   ],
   "source": [
    "# Ваш код з поясненням тут\n",
    "var('n')\n",
    "var('m')\n",
    "var('k')\n",
    "\n",
    "A = matrix([[-1, 0, 0],[0, 1, 1/2],[0, 0, 1]])\n",
    "B = matrix([[1, 0, 1],[0, 1, 0],[0, 0, 1]])\n",
    "\n",
    "G = MatrixGroup([A, B])\n",
    "\n",
    "print(G.is_finite())\n",
    "print(G.is_abelian())\n",
    "\n"
   ]
  }
 ],
 "metadata": {
  "kernelspec": {
   "argv": [
    "sage-10.4",
    "--python",
    "-m",
    "sage.repl.ipython_kernel",
    "--matplotlib=inline",
    "-f",
    "{connection_file}"
   ],
   "display_name": "SageMath 10.4",
   "env": {
   },
   "language": "sagemath",
   "metadata": {
    "cocalc": {
     "description": "Open-source mathematical software system",
     "priority": 10,
     "url": "https://www.sagemath.org/"
    }
   },
   "name": "sage-10.4",
   "resource_dir": "/ext/jupyter/kernels/sage-10.4"
  },
  "language_info": {
   "codemirror_mode": {
    "name": "ipython",
    "version": 3
   },
   "file_extension": ".py",
   "mimetype": "text/x-python",
   "name": "python",
   "nbconvert_exporter": "python",
   "pygments_lexer": "ipython3",
   "version": "3.11.8"
  }
 },
 "nbformat": 4,
 "nbformat_minor": 4
}