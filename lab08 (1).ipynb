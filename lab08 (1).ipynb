{
 "cells": [
  {
   "attachments": {
   },
   "cell_type": "markdown",
   "id": "d344deb3-66ad-4695-ac16-cddf4c362d38",
   "metadata": {
    "collapsed": false
   },
   "source": [
    "# Лабораторна робота 8\n",
    "\n",
    "__Знайдіть к-ть різних розфарбувань кубика Рубика 2х2х2, використовуючи 10 кольорів.__\n",
    "\n",
    "\n",
    "![rubik cube](../docs/labs_assets/rubik_cube.jpg)\n",
    "\n",
    "Два розфарбування називатимуться однаковими, якщо існує послідовність рухів кубика рубика, яка одне розфарбування переводить в інше. \n",
    "\n",
    "Не обовʼязково використовувати всі 10 кольорів, тобто допустимо пофарбувати весь кубик в один колір. \n",
    "\n",
    "___Приклад___: існує 183 різних розфарбувань, використовуючи 2 кольори. "
   ]
  },
  {
   "cell_type": "code",
   "execution_count": 17,
   "id": "a8ac4995-14b4-467d-a1f3-128841eabfb9",
   "metadata": {
    "collapsed": false
   },
   "outputs": [
    {
     "data": {
      "text/plain": [
       "88179840"
      ]
     },
     "execution_count": 17,
     "metadata": {
     },
     "output_type": "execute_result"
    }
   ],
   "source": [
    "G = SymmetricGroup(24)\n",
    "\n",
    "\n",
    "g1 = G('(1, 2, 4, 3)(5, 24, 9, 7)(6, 23, 10, 8)')\n",
    "g2 = G('(1, 7, 17, 21)(3,13,19,23)(5, 6, 12, 11)')\n",
    "g3 = G('(1,11,20,10)(2, 5,19 ,16)(21,22 , 24, 23)')\n",
    "g4 = G('(2, 22,18, 8)(4, 24, 20, 14)(10, 16, 15, 9)')\n",
    "g5 = G('(6, 4, 15, 17)(7,8 ,14 , 13)(12,3 , 9, 18)')\n",
    "g6 = G('(15,22, 11,13)(16, 21, 12,14)(20, 19, 17, 18)')\n",
    "\n",
    "\n",
    "H = G.subgroup([g1, g2, g3, g4, g5, g6])\n",
    "\n",
    "H.order()"
   ]
  }
 ],
 "metadata": {
  "kernelspec": {
   "argv": [
    "sage-10.4",
    "--python",
    "-m",
    "sage.repl.ipython_kernel",
    "--matplotlib=inline",
    "-f",
    "{connection_file}"
   ],
   "display_name": "SageMath 10.4",
   "env": {
   },
   "language": "sagemath",
   "metadata": {
    "cocalc": {
     "description": "Open-source mathematical software system",
     "priority": 10,
     "url": "https://www.sagemath.org/"
    }
   },
   "name": "sage-10.4",
   "resource_dir": "/ext/jupyter/kernels/sage-10.4"
  },
  "language_info": {
   "codemirror_mode": {
    "name": "ipython",
    "version": 3
   },
   "file_extension": ".py",
   "mimetype": "text/x-python",
   "name": "python",
   "nbconvert_exporter": "python",
   "pygments_lexer": "ipython3",
   "version": "3.12.4"
  }
 },
 "nbformat": 4,
 "nbformat_minor": 4
}