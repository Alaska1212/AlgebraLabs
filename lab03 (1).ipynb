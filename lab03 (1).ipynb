{
 "cells": [
  {
   "cell_type": "markdown",
   "id": "088d0c68-43d4-421c-bdda-91b406d863ba",
   "metadata": {
    "collapsed": false
   },
   "source": [
    "# Лабораторна робота 3. Групи, порядок елемента в групі\n",
    "\n",
    "_Примітка_: наведений код є лише одним з можливих шаблонів виконання. Можете писати по-своєму, але розділяйте свій код на функції, щоб їх можна було простіше перевіряти.\n",
    "\n",
    "## Завдання 1. \n",
    "\n",
    "__Задайте групи $D_{10}$, $Z_{16}$, $A_5$, $SL(2, \\mathbb{Z}_3)$*. Для кожної з них виведіть таблицю Келі, знайдіть порядок групи, перевірте чи група абелева. Перевірте чи будуть ізоморфними групи $SL(2, Z_3)$ та $D_3$.__\n",
    "\n",
    "*: група матриць 2х2 з визначником 1 над полем $\\mathbb{Z}_3$"
   ]
  },
  {
   "cell_type": "code",
   "execution_count": 0,
   "id": "8411013e-cb5f-4276-9113-e0bf1a966b4f",
   "metadata": {
    "collapsed": false
   },
   "outputs": [
   ],
   "source": [
    "from sage.matrix.operation_table import OperationTable\n",
    "\n",
    "D10 = DihedralGroup(5) \n",
    "\n",
    "print(\"Таблиця Келі для D10:\")\n",
    "OperationTable(D10, operator.mul, names='elements') "
   ]
  },
  {
   "cell_type": "code",
   "execution_count": 0,
   "id": "2dec43",
   "metadata": {
    "collapsed": false
   },
   "outputs": [
   ],
   "source": [
    "SL2Z3 = SL(2, GF(3))  # SL(2, Z3)\n",
    "print(\"Таблиця Келі для SL(2, Z3):\")\n",
    "OperationTable(SL2Z3, operator.mul, names='elements'"
   ]
  },
  {
   "cell_type": "code",
   "execution_count": 0,
   "id": "3e92f8",
   "metadata": {
    "collapsed": false
   },
   "outputs": [
   ],
   "source": [
    "A5 = AlternatingGroup(5)  # A5\n",
    "print(\"Таблиця Келі для A5:\")\n",
    "OperationTable(A5, operator.mul, names='elements')"
   ]
  },
  {
   "cell_type": "code",
   "execution_count": 0,
   "id": "2fe7ac",
   "metadata": {
    "collapsed": false
   },
   "outputs": [
   ],
   "source": [
    "from sage.matrix.operation_table import OperationTable\n",
    "Z16 = CyclicPermutationGroup(16)  # Z16, циклічна група\n",
    "print(\"Таблиця Келі для Z16:\")\n",
    "OperationTable(Z16, operator.mul, names='elements')"
   ]
  },
  {
   "cell_type": "code",
   "execution_count": 31,
   "id": "835cf4",
   "metadata": {
    "collapsed": false
   },
   "outputs": [
    {
     "name": "stdout",
     "output_type": "stream",
     "text": [
      "Порядок групи D10: 10\n",
      "Порядок групи Z16: 16\n",
      "Порядок групи A5: 60\n",
      "Порядок групи SL(2, Z3): 24\n",
      "Чи є D10 абелевою? False\n",
      "Чи є Z16 абелевою? True\n",
      "Чи є A5 абелевою? False\n",
      "Чи є SL(2, Z3) абелевою? False\n",
      "Чи є групи SL(2, Z3) та D3 ізоморфними? False\n"
     ]
    }
   ],
   "source": [
    "# Виведення порядку груп\n",
    "print(\"Порядок групи D10:\", D10.order())\n",
    "print(\"Порядок групи Z16:\", Z16.order())\n",
    "print(\"Порядок групи A5:\", A5.order())\n",
    "print(\"Порядок групи SL(2, Z3):\", SL2Z3.order())\n",
    "\n",
    "# Перевірка, чи є група абелевою\n",
    "print(\"Чи є D10 абелевою?\", D10.is_abelian())\n",
    "print(\"Чи є Z16 абелевою?\", Z16.is_abelian())\n",
    "print(\"Чи є A5 абелевою?\", A5.is_abelian())\n",
    "print(\"Чи є SL(2, Z3) абелевою?\", SL2Z3.is_abelian())\n",
    "\n",
    "D3 = DihedralGroup(3)\n",
    "# Перевірка, чи є групи SL(2, Z3) та D3 ізоморфними\n",
    "print(\"Чи є групи SL(2, Z3) та D3 ізоморфними?\", SL2Z3.is_isomorphic(D3))"
   ]
  },
  {
   "cell_type": "markdown",
   "id": "101bece3-af83-4515-ba1a-e2d825b15a8d",
   "metadata": {
    "collapsed": false
   },
   "source": [
    "## Завдання 2. \n",
    "\n",
    "__Знайдіть к-ть елементів кожного можливого порядку в групах $S_{100}$ та $A_{100}$.__\n",
    "\n",
    "-----\n",
    "___Зауваження___: вивід буде великий, збережіть його в окремий текстовий файл\n",
    "\n",
    "___Зауваження 2___: оцініть спершу к-ть елементів в групі, а потім ще раз подумайте чи варто тут писати повний перебір"
   ]
  },
  {
   "cell_type": "code",
   "execution_count": 3,
   "id": "c5866f5d-ba29-40b9-af38-a4e93198f68d",
   "metadata": {
    "collapsed": false
   },
   "outputs": [
   ],
   "source": [
    "from collections import Counter\n",
    "import os\n",
    "\n",
    "S100 = SymmetricGroup(100)\n",
    "A100 = AlternatingGroup(100)\n",
    "\n",
    "def count_orders(group):\n",
    "    orders = [g.order() for g in group]\n",
    "    return Counter(orders)\n",
    "\n",
    "\n",
    "orders_S100 = count_orders(S100)\n",
    "orders_A100 = count_orders(A100)\n",
    "\n",
    "\n",
    "with open(\"orders_S100.txt\", \"w\") as f:\n",
    "    for order, count in orders_S100.items():\n",
    "        f.write(f\"Order: {order}, Count: {count}\\n\")\n",
    "\n",
    "with open(\"orders_A100.txt\", \"w\") as f:\n",
    "    for order, count in orders_A100.items():\n",
    "        f.write(f\"Order: {order}, Count: {count}\\n\")\n"
   ]
  },
  {
   "cell_type": "markdown",
   "id": "aa1ddcec-2a21-46d5-80be-ff32c79d7de8",
   "metadata": {
    "collapsed": false
   },
   "source": [
    "## Завдання 3. \n",
    "___Для заданих натуральних $n, k$ ($1 <= n \\le 1 000 000, 1 \\le k \\le n!$) визначте чи існує в групі $S_n$ елемент порядку $k$.___\n",
    "\n",
    "----------\n",
    "\n",
    "___Зауваження:___ зверніть увагу на межі, в яких задано $n, k$. "
   ]
  },
  {
   "cell_type": "code",
   "execution_count": 0,
   "id": "4a04b16b-4a63-4a64-902b-f07148aad1f7",
   "metadata": {
    "collapsed": false
   },
   "outputs": [
   ],
   "source": [
    "# ваш код тут"
   ]
  },
  {
   "cell_type": "code",
   "execution_count": 0,
   "id": "78282e",
   "metadata": {
    "collapsed": false
   },
   "outputs": [
   ],
   "source": [
   ]
  }
 ],
 "metadata": {
  "kernelspec": {
   "argv": [
    "sage-10.4",
    "--python",
    "-m",
    "sage.repl.ipython_kernel",
    "--matplotlib=inline",
    "-f",
    "{connection_file}"
   ],
   "display_name": "SageMath 10.4",
   "env": {
   },
   "language": "sagemath",
   "metadata": {
    "cocalc": {
     "description": "Open-source mathematical software system",
     "priority": 10,
     "url": "https://www.sagemath.org/"
    }
   },
   "name": "sage-10.4",
   "resource_dir": "/ext/jupyter/kernels/sage-10.4"
  },
  "language_info": {
   "codemirror_mode": {
    "name": "ipython",
    "version": 3
   },
   "file_extension": ".py",
   "mimetype": "text/x-python",
   "name": "python",
   "nbconvert_exporter": "python",
   "pygments_lexer": "ipython3",
   "version": "3.11.8"
  }
 },
 "nbformat": 4,
 "nbformat_minor": 4
}